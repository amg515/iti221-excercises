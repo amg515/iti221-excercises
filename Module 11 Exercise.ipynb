{
 "cells": [
  {
   "cell_type": "markdown",
   "metadata": {},
   "source": [
    "Module 11 Exercise\n",
    "Ansel Gomez\n",
    "Section 2"
   ]
  },
  {
   "cell_type": "code",
   "execution_count": 2,
   "metadata": {},
   "outputs": [],
   "source": [
    "import numpy as np\n",
    "import pandas as pd"
   ]
  },
  {
   "cell_type": "markdown",
   "metadata": {},
   "source": [
    "\n",
    "Write a Pandas program to split the titanic dataframe by passenger class ('class') and get mean value, median value, min value, and max value of (1) age, (2) fare for each passenger class (3 points). Also, calculate for each passenger class, how many passengers' age and fare are known (i.e., have non-null \n",
    "entries) in the same output dataframe (1 point)."
   ]
  },
  {
   "cell_type": "code",
   "execution_count": 3,
   "metadata": {},
   "outputs": [],
   "source": [
    "titanic = pd.read_csv('titanic.csv')"
   ]
  },
  {
   "cell_type": "code",
   "execution_count": 4,
   "metadata": {},
   "outputs": [
    {
     "data": {
      "text/html": [
       "<div>\n",
       "<style scoped>\n",
       "    .dataframe tbody tr th:only-of-type {\n",
       "        vertical-align: middle;\n",
       "    }\n",
       "\n",
       "    .dataframe tbody tr th {\n",
       "        vertical-align: top;\n",
       "    }\n",
       "\n",
       "    .dataframe thead th {\n",
       "        text-align: right;\n",
       "    }\n",
       "</style>\n",
       "<table border=\"1\" class=\"dataframe\">\n",
       "  <thead>\n",
       "    <tr style=\"text-align: right;\">\n",
       "      <th></th>\n",
       "      <th>survived</th>\n",
       "      <th>pclass</th>\n",
       "      <th>sex</th>\n",
       "      <th>age</th>\n",
       "      <th>sibsp</th>\n",
       "      <th>parch</th>\n",
       "      <th>fare</th>\n",
       "      <th>embarked</th>\n",
       "      <th>class</th>\n",
       "      <th>who</th>\n",
       "      <th>adult_male</th>\n",
       "      <th>deck</th>\n",
       "      <th>embark_town</th>\n",
       "      <th>alive</th>\n",
       "      <th>alone</th>\n",
       "    </tr>\n",
       "  </thead>\n",
       "  <tbody>\n",
       "    <tr>\n",
       "      <th>0</th>\n",
       "      <td>0</td>\n",
       "      <td>3</td>\n",
       "      <td>male</td>\n",
       "      <td>22.0</td>\n",
       "      <td>1</td>\n",
       "      <td>0</td>\n",
       "      <td>7.2500</td>\n",
       "      <td>S</td>\n",
       "      <td>Third</td>\n",
       "      <td>man</td>\n",
       "      <td>True</td>\n",
       "      <td>NaN</td>\n",
       "      <td>Southampton</td>\n",
       "      <td>no</td>\n",
       "      <td>False</td>\n",
       "    </tr>\n",
       "    <tr>\n",
       "      <th>1</th>\n",
       "      <td>1</td>\n",
       "      <td>1</td>\n",
       "      <td>female</td>\n",
       "      <td>38.0</td>\n",
       "      <td>1</td>\n",
       "      <td>0</td>\n",
       "      <td>71.2833</td>\n",
       "      <td>C</td>\n",
       "      <td>First</td>\n",
       "      <td>woman</td>\n",
       "      <td>False</td>\n",
       "      <td>C</td>\n",
       "      <td>Cherbourg</td>\n",
       "      <td>yes</td>\n",
       "      <td>False</td>\n",
       "    </tr>\n",
       "    <tr>\n",
       "      <th>2</th>\n",
       "      <td>1</td>\n",
       "      <td>3</td>\n",
       "      <td>female</td>\n",
       "      <td>26.0</td>\n",
       "      <td>0</td>\n",
       "      <td>0</td>\n",
       "      <td>7.9250</td>\n",
       "      <td>S</td>\n",
       "      <td>Third</td>\n",
       "      <td>woman</td>\n",
       "      <td>False</td>\n",
       "      <td>NaN</td>\n",
       "      <td>Southampton</td>\n",
       "      <td>yes</td>\n",
       "      <td>True</td>\n",
       "    </tr>\n",
       "    <tr>\n",
       "      <th>3</th>\n",
       "      <td>1</td>\n",
       "      <td>1</td>\n",
       "      <td>female</td>\n",
       "      <td>35.0</td>\n",
       "      <td>1</td>\n",
       "      <td>0</td>\n",
       "      <td>53.1000</td>\n",
       "      <td>S</td>\n",
       "      <td>First</td>\n",
       "      <td>woman</td>\n",
       "      <td>False</td>\n",
       "      <td>C</td>\n",
       "      <td>Southampton</td>\n",
       "      <td>yes</td>\n",
       "      <td>False</td>\n",
       "    </tr>\n",
       "    <tr>\n",
       "      <th>4</th>\n",
       "      <td>0</td>\n",
       "      <td>3</td>\n",
       "      <td>male</td>\n",
       "      <td>35.0</td>\n",
       "      <td>0</td>\n",
       "      <td>0</td>\n",
       "      <td>8.0500</td>\n",
       "      <td>S</td>\n",
       "      <td>Third</td>\n",
       "      <td>man</td>\n",
       "      <td>True</td>\n",
       "      <td>NaN</td>\n",
       "      <td>Southampton</td>\n",
       "      <td>no</td>\n",
       "      <td>True</td>\n",
       "    </tr>\n",
       "    <tr>\n",
       "      <th>...</th>\n",
       "      <td>...</td>\n",
       "      <td>...</td>\n",
       "      <td>...</td>\n",
       "      <td>...</td>\n",
       "      <td>...</td>\n",
       "      <td>...</td>\n",
       "      <td>...</td>\n",
       "      <td>...</td>\n",
       "      <td>...</td>\n",
       "      <td>...</td>\n",
       "      <td>...</td>\n",
       "      <td>...</td>\n",
       "      <td>...</td>\n",
       "      <td>...</td>\n",
       "      <td>...</td>\n",
       "    </tr>\n",
       "    <tr>\n",
       "      <th>886</th>\n",
       "      <td>0</td>\n",
       "      <td>2</td>\n",
       "      <td>male</td>\n",
       "      <td>27.0</td>\n",
       "      <td>0</td>\n",
       "      <td>0</td>\n",
       "      <td>13.0000</td>\n",
       "      <td>S</td>\n",
       "      <td>Second</td>\n",
       "      <td>man</td>\n",
       "      <td>True</td>\n",
       "      <td>NaN</td>\n",
       "      <td>Southampton</td>\n",
       "      <td>no</td>\n",
       "      <td>True</td>\n",
       "    </tr>\n",
       "    <tr>\n",
       "      <th>887</th>\n",
       "      <td>1</td>\n",
       "      <td>1</td>\n",
       "      <td>female</td>\n",
       "      <td>19.0</td>\n",
       "      <td>0</td>\n",
       "      <td>0</td>\n",
       "      <td>30.0000</td>\n",
       "      <td>S</td>\n",
       "      <td>First</td>\n",
       "      <td>woman</td>\n",
       "      <td>False</td>\n",
       "      <td>B</td>\n",
       "      <td>Southampton</td>\n",
       "      <td>yes</td>\n",
       "      <td>True</td>\n",
       "    </tr>\n",
       "    <tr>\n",
       "      <th>888</th>\n",
       "      <td>0</td>\n",
       "      <td>3</td>\n",
       "      <td>female</td>\n",
       "      <td>NaN</td>\n",
       "      <td>1</td>\n",
       "      <td>2</td>\n",
       "      <td>23.4500</td>\n",
       "      <td>S</td>\n",
       "      <td>Third</td>\n",
       "      <td>woman</td>\n",
       "      <td>False</td>\n",
       "      <td>NaN</td>\n",
       "      <td>Southampton</td>\n",
       "      <td>no</td>\n",
       "      <td>False</td>\n",
       "    </tr>\n",
       "    <tr>\n",
       "      <th>889</th>\n",
       "      <td>1</td>\n",
       "      <td>1</td>\n",
       "      <td>male</td>\n",
       "      <td>26.0</td>\n",
       "      <td>0</td>\n",
       "      <td>0</td>\n",
       "      <td>30.0000</td>\n",
       "      <td>C</td>\n",
       "      <td>First</td>\n",
       "      <td>man</td>\n",
       "      <td>True</td>\n",
       "      <td>C</td>\n",
       "      <td>Cherbourg</td>\n",
       "      <td>yes</td>\n",
       "      <td>True</td>\n",
       "    </tr>\n",
       "    <tr>\n",
       "      <th>890</th>\n",
       "      <td>0</td>\n",
       "      <td>3</td>\n",
       "      <td>male</td>\n",
       "      <td>32.0</td>\n",
       "      <td>0</td>\n",
       "      <td>0</td>\n",
       "      <td>7.7500</td>\n",
       "      <td>Q</td>\n",
       "      <td>Third</td>\n",
       "      <td>man</td>\n",
       "      <td>True</td>\n",
       "      <td>NaN</td>\n",
       "      <td>Queenstown</td>\n",
       "      <td>no</td>\n",
       "      <td>True</td>\n",
       "    </tr>\n",
       "  </tbody>\n",
       "</table>\n",
       "<p>891 rows × 15 columns</p>\n",
       "</div>"
      ],
      "text/plain": [
       "     survived  pclass     sex   age  sibsp  parch     fare embarked   class  \\\n",
       "0           0       3    male  22.0      1      0   7.2500        S   Third   \n",
       "1           1       1  female  38.0      1      0  71.2833        C   First   \n",
       "2           1       3  female  26.0      0      0   7.9250        S   Third   \n",
       "3           1       1  female  35.0      1      0  53.1000        S   First   \n",
       "4           0       3    male  35.0      0      0   8.0500        S   Third   \n",
       "..        ...     ...     ...   ...    ...    ...      ...      ...     ...   \n",
       "886         0       2    male  27.0      0      0  13.0000        S  Second   \n",
       "887         1       1  female  19.0      0      0  30.0000        S   First   \n",
       "888         0       3  female   NaN      1      2  23.4500        S   Third   \n",
       "889         1       1    male  26.0      0      0  30.0000        C   First   \n",
       "890         0       3    male  32.0      0      0   7.7500        Q   Third   \n",
       "\n",
       "       who  adult_male deck  embark_town alive  alone  \n",
       "0      man        True  NaN  Southampton    no  False  \n",
       "1    woman       False    C    Cherbourg   yes  False  \n",
       "2    woman       False  NaN  Southampton   yes   True  \n",
       "3    woman       False    C  Southampton   yes  False  \n",
       "4      man        True  NaN  Southampton    no   True  \n",
       "..     ...         ...  ...          ...   ...    ...  \n",
       "886    man        True  NaN  Southampton    no   True  \n",
       "887  woman       False    B  Southampton   yes   True  \n",
       "888  woman       False  NaN  Southampton    no  False  \n",
       "889    man        True    C    Cherbourg   yes   True  \n",
       "890    man        True  NaN   Queenstown    no   True  \n",
       "\n",
       "[891 rows x 15 columns]"
      ]
     },
     "execution_count": 4,
     "metadata": {},
     "output_type": "execute_result"
    }
   ],
   "source": [
    "titanic"
   ]
  },
  {
   "cell_type": "code",
   "execution_count": 5,
   "metadata": {},
   "outputs": [
    {
     "name": "stdout",
     "output_type": "stream",
     "text": [
      "class's age: First =>\n",
      "The mean age is 38.233440860215055\n",
      "The median age is 37.0\n",
      "The min age is 0.92\n",
      "The max age is 80.0\n",
      "*****************************\n",
      " \n",
      "class's age: Second =>\n",
      "The mean age is 29.87763005780347\n",
      "The median age is 29.0\n",
      "The min age is 0.67\n",
      "The max age is 70.0\n",
      "*****************************\n",
      " \n",
      "class's age: Third =>\n",
      "The mean age is 25.14061971830986\n",
      "The median age is 24.0\n",
      "The min age is 0.42\n",
      "The max age is 74.0\n",
      "*****************************\n",
      " \n"
     ]
    }
   ],
   "source": [
    "for name, group in titanic.groupby('class'):\n",
    "    print (\"class's age:\", name, \"=>\")\n",
    "    print (f\"The mean age is {group['age'].mean()}\")\n",
    "    print (f\"The median age is {group['age'].median()}\")\n",
    "    print (f\"The min age is {group['age'].min()}\")\n",
    "    print (f\"The max age is {group['age'].max()}\")\n",
    "    print (\"*****************************\")\n",
    "    print (\" \")"
   ]
  },
  {
   "cell_type": "code",
   "execution_count": 6,
   "metadata": {},
   "outputs": [
    {
     "name": "stdout",
     "output_type": "stream",
     "text": [
      "class's fare: First =>\n",
      "The mean fare is 84.1546875\n",
      "The median fare is 60.287499999999994\n",
      "The min fare is 0.0\n",
      "The max fare is 512.3292\n",
      "*****************************\n",
      " \n",
      "class's fare: Second =>\n",
      "The mean fare is 20.662183152173913\n",
      "The median fare is 14.25\n",
      "The min fare is 0.0\n",
      "The max fare is 73.5\n",
      "*****************************\n",
      " \n",
      "class's fare: Third =>\n",
      "The mean fare is 13.675550101832993\n",
      "The median fare is 8.05\n",
      "The min fare is 0.0\n",
      "The max fare is 69.55\n",
      "*****************************\n",
      " \n"
     ]
    }
   ],
   "source": [
    "for name, group in titanic.groupby('class'):\n",
    "    print (\"class's fare:\", name, \"=>\")\n",
    "    print (f\"The mean fare is {group['fare'].mean()}\")\n",
    "    print (f\"The median fare is {group['fare'].median()}\")\n",
    "    print (f\"The min fare is {group['fare'].min()}\")\n",
    "    print (f\"The max fare is {group['fare'].max()}\")\n",
    "    print (\"*****************************\")\n",
    "    print (\" \")"
   ]
  },
  {
   "cell_type": "code",
   "execution_count": 7,
   "metadata": {},
   "outputs": [
    {
     "name": "stdout",
     "output_type": "stream",
     "text": [
      "class: First =>\n",
      " The amount of passengers with known age is 186\n",
      " The amount of passengers with known fare is 216\n",
      "*****************************\n",
      " \n",
      "class: Second =>\n",
      " The amount of passengers with known age is 173\n",
      " The amount of passengers with known fare is 184\n",
      "*****************************\n",
      " \n",
      "class: Third =>\n",
      " The amount of passengers with known age is 355\n",
      " The amount of passengers with known fare is 491\n",
      "*****************************\n",
      " \n"
     ]
    }
   ],
   "source": [
    "for name, group in titanic.groupby('class'):\n",
    "    print (\"class:\", name, \"=>\")\n",
    "    print (f\" The amount of passengers with known age is {group['age'].count()}\")\n",
    "    print (f\" The amount of passengers with known fare is {group['fare'].count()}\")\n",
    "    print (\"*****************************\")\n",
    "    print (\" \")"
   ]
  },
  {
   "cell_type": "markdown",
   "metadata": {},
   "source": [
    "What is the probability of survival for each passenger class (1 point)?"
   ]
  },
  {
   "cell_type": "code",
   "execution_count": 8,
   "metadata": {},
   "outputs": [
    {
     "name": "stdout",
     "output_type": "stream",
     "text": [
      "class: First =>\n",
      " The probability of survival for this class is 63.0%\n",
      "*****************************\n",
      " \n",
      "class: Second =>\n",
      " The probability of survival for this class is 47.3%\n",
      "*****************************\n",
      " \n",
      "class: Third =>\n",
      " The probability of survival for this class is 24.2%\n",
      "*****************************\n",
      " \n"
     ]
    }
   ],
   "source": [
    "for name, group in titanic.groupby('class'):\n",
    "    print (\"class:\", name, \"=>\")\n",
    "    print (f\" The probability of survival for this class is {round((group['alive'].value_counts()['yes']/group['alive'].count())*100, 1)}%\")\n",
    "    print (\"*****************************\")\n",
    "    print (\" \")"
   ]
  },
  {
   "cell_type": "markdown",
   "metadata": {},
   "source": [
    "What is the probability of survival for men, women, and children (Hint: Use column 'who') (1 point)?\n"
   ]
  },
  {
   "cell_type": "code",
   "execution_count": 9,
   "metadata": {},
   "outputs": [
    {
     "name": "stdout",
     "output_type": "stream",
     "text": [
      "who: child =>\n",
      " The probability of survival is 59.0%\n",
      "*****************************\n",
      " \n",
      "who: man =>\n",
      " The probability of survival is 16.4%\n",
      "*****************************\n",
      " \n",
      "who: woman =>\n",
      " The probability of survival is 75.6%\n",
      "*****************************\n",
      " \n"
     ]
    }
   ],
   "source": [
    "for name, group in titanic.groupby('who'):\n",
    "    print (\"who:\", name, \"=>\")\n",
    "    print (f\" The probability of survival is {round((group['alive'].value_counts()['yes']/group['alive'].count())*100, 1)}%\")\n",
    "    print (\"*****************************\")\n",
    "    print (\" \")"
   ]
  },
  {
   "cell_type": "markdown",
   "metadata": {},
   "source": [
    "For each combination of town of embarkment and deck, calculate (1) the number of people who belonged to the combination (if any) and (2) the number of people who survived (2 points)."
   ]
  },
  {
   "cell_type": "code",
   "execution_count": 10,
   "metadata": {},
   "outputs": [
    {
     "name": "stdout",
     "output_type": "stream",
     "text": [
      "Town of Embarkment: Cherbourg  Deck: A =>\n",
      "Total: 7\n",
      "Alive: 4\n",
      "*****************************\n",
      " \n",
      "Town of Embarkment: Cherbourg  Deck: B =>\n",
      "Total: 22\n",
      "Alive: 17\n",
      "*****************************\n",
      " \n",
      "Town of Embarkment: Cherbourg  Deck: C =>\n",
      "Total: 21\n",
      "Alive: 14\n",
      "*****************************\n",
      " \n",
      "Town of Embarkment: Cherbourg  Deck: D =>\n",
      "Total: 13\n",
      "Alive: 11\n",
      "*****************************\n",
      " \n",
      "Town of Embarkment: Cherbourg  Deck: E =>\n",
      "Total: 5\n",
      "Alive: 5\n",
      "*****************************\n",
      " \n",
      "Town of Embarkment: Cherbourg  Deck: F =>\n",
      "Total: 1\n",
      "Alive: 1\n",
      "*****************************\n",
      " \n",
      "Town of Embarkment: Queenstown  Deck: C =>\n",
      "Total: 2\n",
      "Alive: 1\n",
      "*****************************\n",
      " \n",
      "Town of Embarkment: Queenstown  Deck: E =>\n",
      "Total: 1\n",
      "Alive: 1\n",
      "*****************************\n",
      " \n",
      "Town of Embarkment: Queenstown  Deck: F =>\n",
      "Total: 1\n",
      "Alive: 0\n",
      "*****************************\n",
      " \n",
      "Town of Embarkment: Southampton  Deck: A =>\n",
      "Total: 8\n",
      "Alive: 3\n",
      "*****************************\n",
      " \n",
      "Town of Embarkment: Southampton  Deck: B =>\n",
      "Total: 23\n",
      "Alive: 16\n",
      "*****************************\n",
      " \n",
      "Town of Embarkment: Southampton  Deck: C =>\n",
      "Total: 36\n",
      "Alive: 20\n",
      "*****************************\n",
      " \n",
      "Town of Embarkment: Southampton  Deck: D =>\n",
      "Total: 20\n",
      "Alive: 14\n",
      "*****************************\n",
      " \n",
      "Town of Embarkment: Southampton  Deck: E =>\n",
      "Total: 26\n",
      "Alive: 18\n",
      "*****************************\n",
      " \n",
      "Town of Embarkment: Southampton  Deck: F =>\n",
      "Total: 11\n",
      "Alive: 7\n",
      "*****************************\n",
      " \n",
      "Town of Embarkment: Southampton  Deck: G =>\n",
      "Total: 4\n",
      "Alive: 2\n",
      "*****************************\n",
      " \n"
     ]
    }
   ],
   "source": [
    "for name, group in titanic.groupby(['embark_town', 'deck']):\n",
    "    print (\"Town of Embarkment:\", name[0], \" Deck:\", name[1], \"=>\")\n",
    "    print (f\"Total: {group['alive'].count()}\")\n",
    "    if 'yes' in group['alive'].values:\n",
    "        print(f\"Alive: {group['alive'].value_counts()['yes']}\")\n",
    "    else:\n",
    "        print (\"Alive: 0\")\n",
    "    print (\"*****************************\")\n",
    "    print (\" \")"
   ]
  },
  {
   "cell_type": "markdown",
   "metadata": {},
   "source": [
    "Draw a category plot (bar plot) with passenger class on x-axis, 'survived' on y-axis, and gender as hue. Explain in your own words what insights this plot gives you about the probability of survival (2 points)."
   ]
  },
  {
   "cell_type": "code",
   "execution_count": 11,
   "metadata": {},
   "outputs": [],
   "source": [
    "import seaborn as sns"
   ]
  },
  {
   "cell_type": "code",
   "execution_count": 17,
   "metadata": {},
   "outputs": [
    {
     "data": {
      "text/plain": [
       "<AxesSubplot:xlabel='class', ylabel='survived'>"
      ]
     },
     "execution_count": 17,
     "metadata": {},
     "output_type": "execute_result"
    },
    {
     "data": {
      "image/png": "[encoded data removed]",
      "text/plain": [
       "<Figure size 432x288 with 1 Axes>"
      ]
     },
     "metadata": {
      "needs_background": "light"
     },
     "output_type": "display_data"
    }
   ],
   "source": [
    "sns.barplot(\n",
    "    x='class',\n",
    "    y='survived',\n",
    "    hue='sex', \n",
    "    data=titanic,\n",
    "    order=('First' , 'Second', 'Third')\n",
    ")"
   ]
  },
  {
   "cell_type": "markdown",
   "metadata": {},
   "source": [
    "Regardless of which class, there was a priority to put the women first before men in terms of safety. However, the first and second class had a higher probability of surviving overall. This creates perspective on which social classes were considered important as well as which gender's safety was prioritized. A female in a higher class meant higher probablity of surviving. "
   ]
  },
  {
   "cell_type": "markdown",
   "metadata": {},
   "source": [
    "Github link"
   ]
  },
  {
   "cell_type": "markdown",
   "metadata": {},
   "source": [
    "https://github.com/amg515/iti221-excercises"
   ]
  }
 ],
 "metadata": {
  "interpreter": {
   "hash": "eb219dc60ec316f03a16d2a8312cefcbc9f090167d15f66f5fbccb686d7b6683"
  },
  "kernelspec": {
   "display_name": "Python 3.10.2 ('venv': venv)",
   "language": "python",
   "name": "python3"
  },
  "language_info": {
   "codemirror_mode": {
    "name": "ipython",
    "version": 3
   },
   "file_extension": ".py",
   "mimetype": "text/x-python",
   "name": "python",
   "nbconvert_exporter": "python",
   "pygments_lexer": "ipython3",
   "version": "3.10.2"
  },
  "orig_nbformat": 4
 },
 "nbformat": 4,
 "nbformat_minor": 2
}
